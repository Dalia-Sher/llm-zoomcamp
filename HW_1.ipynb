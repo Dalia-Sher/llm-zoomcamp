{
 "cells": [
  {
   "cell_type": "markdown",
   "id": "5639cdb2-c95d-4fc9-9068-1cf7231db9e2",
   "metadata": {},
   "source": [
    "**Q1. Running Elastic**"
   ]
  },
  {
   "cell_type": "code",
   "execution_count": null,
   "id": "20182647-2498-4288-9e4a-58307bc8607d",
   "metadata": {},
   "outputs": [],
   "source": [
    "docker start $(docker ps -a -q --filter \"status=exited\")\n",
    "aee3153dfa12\n",
    "07e1b35812da"
   ]
  },
  {
   "cell_type": "code",
   "execution_count": null,
   "id": "2fdb1051-458e-4bf8-ab6a-c7e2dd859f17",
   "metadata": {},
   "outputs": [],
   "source": [
    "docker start aee3153dfa12"
   ]
  },
  {
   "cell_type": "markdown",
   "id": "a23064d0-7a70-4951-a01e-3b1050fa4526",
   "metadata": {},
   "source": [
    "curl localhost:9200\n",
    "\n",
    "{\n",
    "  \"name\" : \"d46b546fc702\",\n",
    "  \"cluster_name\" : \"docker-cluster\",\n",
    "  \"cluster_uuid\" : \"xsjMZdEHQK2nq--75P-oTg\",\n",
    "  \"version\" : {\n",
    "    \"number\" : \"8.4.3\",\n",
    "    \"build_flavor\" : \"default\",\n",
    "    \"build_type\" : \"docker\",\n",
    "    *\"build_hash\" : \"42f05b9372a9a4a470db3b52817899b99a76ee73\",*\n",
    "    \"build_date\" : \"2022-10-04T07:17:24.662462378Z\",\n",
    "    \"build_snapshot\" : false,\n",
    "    \"lucene_version\" : \"9.3.0\",\n",
    "    \"minimum_wire_compatibility_version\" : \"7.17.0\",\n",
    "    \"minimum_index_compatibility_version\" : \"7.0.0\"\n",
    "  },\n",
    "  \"tagline\" : \"You Know, for Search\"\n",
    "}"
   ]
  },
  {
   "cell_type": "markdown",
   "id": "4c0b878d-879c-4677-883b-9f069f4c4a97",
   "metadata": {},
   "source": [
    "**Getting the data**"
   ]
  },
  {
   "cell_type": "code",
   "execution_count": 1,
   "id": "a163c6b0-aced-4711-bcf1-7c43d41826bb",
   "metadata": {},
   "outputs": [],
   "source": [
    "import requests \n",
    "\n",
    "docs_url = 'https://github.com/DataTalksClub/llm-zoomcamp/blob/main/01-intro/documents.json?raw=1'\n",
    "docs_response = requests.get(docs_url)\n",
    "documents_raw = docs_response.json()\n",
    "\n",
    "documents = []\n",
    "\n",
    "for course in documents_raw:\n",
    "    course_name = course['course']\n",
    "\n",
    "    for doc in course['documents']:\n",
    "        doc['course'] = course_name\n",
    "        documents.append(doc)"
   ]
  },
  {
   "cell_type": "markdown",
   "id": "98f8fea5-6d08-418e-be1e-0e151425a507",
   "metadata": {},
   "source": [
    "**Q2. Indexing the data**"
   ]
  },
  {
   "cell_type": "markdown",
   "id": "968ac9e2-090b-46cb-a18d-d86534e1e4d2",
   "metadata": {},
   "source": [
    "Which function do you use for adding your data to elastic?\n",
    "index"
   ]
  },
  {
   "cell_type": "markdown",
   "id": "fabf0f95-82ea-4073-bb1e-fafeb61974f1",
   "metadata": {},
   "source": [
    "**Q3. Searching**"
   ]
  },
  {
   "cell_type": "code",
   "execution_count": 2,
   "id": "824f35ba-6d5a-4fb9-83c9-dc0fdf43be72",
   "metadata": {},
   "outputs": [],
   "source": [
    "from elasticsearch import Elasticsearch"
   ]
  },
  {
   "cell_type": "code",
   "execution_count": 3,
   "id": "4cdd6c33-fb9d-4184-aaeb-618390f22469",
   "metadata": {},
   "outputs": [
    {
     "data": {
      "text/plain": [
       "ObjectApiResponse({'name': 'aee3153dfa12', 'cluster_name': 'docker-cluster', 'cluster_uuid': 'aK41VxYZSI2Slxzgsk4Tjg', 'version': {'number': '8.4.3', 'build_flavor': 'default', 'build_type': 'docker', 'build_hash': '42f05b9372a9a4a470db3b52817899b99a76ee73', 'build_date': '2022-10-04T07:17:24.662462378Z', 'build_snapshot': False, 'lucene_version': '9.3.0', 'minimum_wire_compatibility_version': '7.17.0', 'minimum_index_compatibility_version': '7.0.0'}, 'tagline': 'You Know, for Search'})"
      ]
     },
     "execution_count": 3,
     "metadata": {},
     "output_type": "execute_result"
    }
   ],
   "source": [
    "es_client = Elasticsearch('http://localhost:9200')\n",
    "es_client.info()"
   ]
  },
  {
   "cell_type": "code",
   "execution_count": null,
   "id": "94d72f34-fad1-4546-a043-794e77493428",
   "metadata": {},
   "outputs": [],
   "source": [
    "index_settings = {\n",
    "    \"settings\": {\n",
    "        \"number_of_shards\": 1,\n",
    "        \"number_of_replicas\": 0\n",
    "    },\n",
    "    \"mappings\": {\n",
    "        \"properties\": {\n",
    "            \"text\": {\"type\": \"text\"},\n",
    "            \"section\": {\"type\": \"text\"},\n",
    "            \"question\": {\"type\": \"text\"},\n",
    "            \"course\": {\"type\": \"keyword\"} \n",
    "        }\n",
    "    }\n",
    "}\n",
    "\n",
    "index_name = \"course-questions\"\n",
    "response = es_client.indices.create(index=index_name, body=index_settings)\n",
    "\n",
    "response"
   ]
  },
  {
   "cell_type": "code",
   "execution_count": 5,
   "id": "dd25a570-adc1-44fd-8981-97bff95a8164",
   "metadata": {},
   "outputs": [],
   "source": [
    "def elastic_search(query):\n",
    "\n",
    "    search_query = {\n",
    "        \"size\": 5,\n",
    "        \"query\": {\n",
    "            \"bool\": {\n",
    "                \"must\": {\n",
    "                    \"multi_match\": {\n",
    "                        \"query\": query,\n",
    "                        \"fields\": [\"question^4\", \"text\"],\n",
    "                        \"type\": \"best_fields\"\n",
    "                    }\n",
    "                },\n",
    "\n",
    "            }\n",
    "        }\n",
    "    }\n",
    "    \n",
    "    response = es_client.search(index=index_name, body=search_query)\n",
    "    return response"
   ]
  },
  {
   "cell_type": "code",
   "execution_count": 6,
   "id": "0e69aba8-3147-4c22-bfa8-bf1c13f6bec4",
   "metadata": {},
   "outputs": [],
   "source": [
    "query = \"How do I execute a command in a running docker container?\""
   ]
  },
  {
   "cell_type": "code",
   "execution_count": 7,
   "id": "8bbb6317-b0e0-4333-b91c-539f74184911",
   "metadata": {},
   "outputs": [],
   "source": [
    "elastic_search_response = elastic_search(query)"
   ]
  },
  {
   "cell_type": "code",
   "execution_count": 8,
   "id": "2d79d06f-3ac4-4c7a-8453-317f018354d8",
   "metadata": {},
   "outputs": [
    {
     "data": {
      "text/plain": [
       "dict_keys(['took', 'timed_out', '_shards', 'hits'])"
      ]
     },
     "execution_count": 8,
     "metadata": {},
     "output_type": "execute_result"
    }
   ],
   "source": [
    "elastic_search_response.keys()"
   ]
  },
  {
   "cell_type": "code",
   "execution_count": 9,
   "id": "3aaf9a25-e104-4147-899f-0b4e33533b57",
   "metadata": {},
   "outputs": [
    {
     "data": {
      "text/plain": [
       "dict_keys(['total', 'max_score', 'hits'])"
      ]
     },
     "execution_count": 9,
     "metadata": {},
     "output_type": "execute_result"
    }
   ],
   "source": [
    "elastic_search_response['hits'].keys()"
   ]
  },
  {
   "cell_type": "code",
   "execution_count": 10,
   "id": "89983ab6-364b-4e45-a5b9-71545b297055",
   "metadata": {},
   "outputs": [
    {
     "data": {
      "text/plain": [
       "84.050095"
      ]
     },
     "execution_count": 10,
     "metadata": {},
     "output_type": "execute_result"
    }
   ],
   "source": [
    "elastic_search_response['hits']['max_score']"
   ]
  },
  {
   "cell_type": "markdown",
   "id": "b967c4f1-f59d-4beb-8639-ba0471aefbe2",
   "metadata": {},
   "source": [
    "**Q4. Filtering**"
   ]
  },
  {
   "cell_type": "code",
   "execution_count": 13,
   "id": "de67a83a-70b4-4f19-852b-5d3ad81cf4b5",
   "metadata": {},
   "outputs": [],
   "source": [
    "def elastic_search(query):\n",
    "\n",
    "    search_query = {\n",
    "        \"size\": 3,\n",
    "        \"query\": {\n",
    "            \"bool\": {\n",
    "                \"must\": {\n",
    "                    \"multi_match\": {\n",
    "                        \"query\": query,\n",
    "                        \"fields\": [\"question^4\", \"text\"],\n",
    "                        \"type\": \"best_fields\"\n",
    "                    }\n",
    "                },\n",
    "                \"filter\": {\n",
    "                    \"term\": {\n",
    "                        \"course\": \"machine-learning-zoomcamp\"\n",
    "                    }\n",
    "                }\n",
    "            }\n",
    "        }\n",
    "    }\n",
    "    \n",
    "    response = es_client.search(index=index_name, body=search_query)\n",
    "    \n",
    "    results_doc = []\n",
    "    for hit in response['hits']['hits']:\n",
    "        results_doc.append(hit['_source'])\n",
    "    return response, results_doc"
   ]
  },
  {
   "cell_type": "code",
   "execution_count": 14,
   "id": "5a44e42e-5257-46a9-80d4-3ef82be179ac",
   "metadata": {},
   "outputs": [
    {
     "name": "stdout",
     "output_type": "stream",
     "text": [
      "How do I debug a docker container?\n",
      "How do I copy files from my local machine to docker container?\n",
      "How do I copy files from a different folder into docker container’s working directory?\n"
     ]
    }
   ],
   "source": [
    "response_4, results_doc_4 = elastic_search(query)\n",
    "for hit in response_4['hits']['hits']:\n",
    "    print(hit['_source']['question'])"
   ]
  },
  {
   "cell_type": "markdown",
   "id": "982408d6-4286-49df-9664-97f9854479e8",
   "metadata": {},
   "source": [
    "**Q5. Building a prompt**"
   ]
  },
  {
   "cell_type": "code",
   "execution_count": 34,
   "id": "0d5e13c0-710d-42bf-a603-28e821c8e1bb",
   "metadata": {},
   "outputs": [],
   "source": [
    "question = \"How do I execute a command in a running docker container?\""
   ]
  },
  {
   "cell_type": "code",
   "execution_count": 60,
   "id": "7b4bc4bd-ce8b-4fc6-a6d6-58327e93a30d",
   "metadata": {},
   "outputs": [
    {
     "name": "stdout",
     "output_type": "stream",
     "text": [
      "Q: How do I debug a docker container?\n",
      "A: Launch the container image in interactive mode and overriding the entrypoint, so that it starts a bash command.\n",
      "docker run -it --entrypoint bash <image>\n",
      "If the container is already running, execute a command in the specific container:\n",
      "docker ps (find the container-id)\n",
      "docker exec -it <container-id> bash\n",
      "(Marcos MJD)\n",
      "\n",
      "Q: How do I copy files from my local machine to docker container?\n",
      "A: You can copy files from your local machine into a Docker container using the docker cp command. Here's how to do it:\n",
      "To copy a file or directory from your local machine into a running Docker container, you can use the `docker cp command`. The basic syntax is as follows:\n",
      "docker cp /path/to/local/file_or_directory container_id:/path/in/container\n",
      "Hrithik Kumar Advani\n",
      "\n",
      "Q: How do I copy files from a different folder into docker container’s working directory?\n",
      "A: You can copy files from your local machine into a Docker container using the docker cp command. Here's how to do it:\n",
      "In the Dockerfile, you can provide the folder containing the files that you want to copy over. The basic syntax is as follows:\n",
      "COPY [\"src/predict.py\", \"models/xgb_model.bin\", \"./\"]\t\t\t\t\t\t\t\t\t\t\tGopakumar Gopinathan\n"
     ]
    }
   ],
   "source": [
    "context_template = \"\"\"\n",
    "Q: {question}\n",
    "A: {text}\n",
    "\"\"\".strip()\n",
    "\n",
    "context_result = \"\"\n",
    "\n",
    "for doc in results_doc_4:\n",
    "    doc_str = context_template.format(**doc)\n",
    "    context_result += (\"\\n\\n\" + doc_str)\n",
    "\n",
    "context = context_result.strip()\n",
    "print(context)"
   ]
  },
  {
   "cell_type": "code",
   "execution_count": 62,
   "id": "6728bfb0-16bf-4a45-b2f0-6d8b3d223a95",
   "metadata": {},
   "outputs": [],
   "source": [
    "prompt_template = f\"\"\"\n",
    "You're a course teaching assistant. Answer the QUESTION based on the CONTEXT from the FAQ database.\n",
    "Use only the facts from the CONTEXT when answering the QUESTION.\n",
    "\n",
    "QUESTION: {question}\n",
    "\n",
    "CONTEXT:\n",
    "{context}\n",
    "\"\"\".strip()"
   ]
  },
  {
   "cell_type": "code",
   "execution_count": 63,
   "id": "959c2f0f-8fd8-4924-8ea9-c38157cb588f",
   "metadata": {},
   "outputs": [
    {
     "data": {
      "text/plain": [
       "1462"
      ]
     },
     "execution_count": 63,
     "metadata": {},
     "output_type": "execute_result"
    }
   ],
   "source": [
    "prompt = prompt_template.format(question=question, context=context_template).strip()\n",
    "len(prompt)"
   ]
  },
  {
   "cell_type": "markdown",
   "id": "0d6b86c4-cfb0-4623-bedc-6f83c5f7a885",
   "metadata": {},
   "source": [
    "**Q6. Tokens**"
   ]
  },
  {
   "cell_type": "code",
   "execution_count": 22,
   "id": "b9617f76-b354-462c-8615-f75245f8fa4d",
   "metadata": {},
   "outputs": [],
   "source": [
    "import tiktoken"
   ]
  },
  {
   "cell_type": "code",
   "execution_count": 64,
   "id": "e7049389-45f3-4b6a-a113-d537527fef29",
   "metadata": {},
   "outputs": [],
   "source": [
    "encoding = tiktoken.encoding_for_model(\"gpt-4o\")"
   ]
  },
  {
   "cell_type": "code",
   "execution_count": 66,
   "id": "cd12efde-d265-4c37-bf9d-4644b61c8b69",
   "metadata": {},
   "outputs": [
    {
     "data": {
      "text/plain": [
       "322"
      ]
     },
     "execution_count": 66,
     "metadata": {},
     "output_type": "execute_result"
    }
   ],
   "source": [
    "len(encoding.encode(prompt))"
   ]
  },
  {
   "cell_type": "markdown",
   "id": "e47d97c6-2aae-4b80-bbd5-007a822c3a0c",
   "metadata": {},
   "source": [
    "**Bonus: generating the answer (ungraded)**"
   ]
  },
  {
   "cell_type": "code",
   "execution_count": 25,
   "id": "9ca4129e-c467-4e3a-a7f3-f7d85d50f961",
   "metadata": {},
   "outputs": [],
   "source": [
    "from openai import OpenAI"
   ]
  },
  {
   "cell_type": "code",
   "execution_count": 26,
   "id": "795e1427-212c-431e-a7f6-a5593f9db581",
   "metadata": {},
   "outputs": [],
   "source": [
    "client = OpenAI(api_key=\"\")"
   ]
  },
  {
   "cell_type": "code",
   "execution_count": 27,
   "id": "e5155a0e-b20b-41aa-8029-0fb87724c52d",
   "metadata": {},
   "outputs": [],
   "source": [
    "def elastic_search(query):\n",
    "\n",
    "    search_query = {\n",
    "        \"size\": 5,\n",
    "        \"query\": {\n",
    "            \"bool\": {\n",
    "                \"must\": {\n",
    "                    \"multi_match\": {\n",
    "                        \"query\": query,\n",
    "                        \"fields\": [\"question^3\", \"text\", \"section\"],\n",
    "                        \"type\": \"best_fields\"\n",
    "                    }\n",
    "                },\n",
    "                # \"filter\": {\n",
    "                #     \"term\": {\n",
    "                #         \"course\": \"data-engineering-zoomcamp\"\n",
    "                #     }\n",
    "                # }\n",
    "            }\n",
    "        }\n",
    "    }\n",
    "    \n",
    "    response = es_client.search(index=index_name, body=search_query)\n",
    "    \n",
    "    results_doc = []\n",
    "    for hit in response['hits']['hits']:\n",
    "        results_doc.append(hit['_source'])\n",
    "    return results_doc"
   ]
  },
  {
   "cell_type": "code",
   "execution_count": 28,
   "id": "b9918f09-e9e7-4850-a074-97652b454e36",
   "metadata": {},
   "outputs": [],
   "source": [
    "def llm(prompt):\n",
    "    response = client.chat.completions.create(\n",
    "        model='gpt-4o',\n",
    "        messages=[{\"role\":\"user\", \"content\":prompt}]\n",
    "    )\n",
    "    \n",
    "    return response.choices[0].message.content"
   ]
  },
  {
   "cell_type": "code",
   "execution_count": 29,
   "id": "ab6de12c-6f3d-49a6-8c95-2e316e08b15e",
   "metadata": {},
   "outputs": [],
   "source": [
    "def rag(query):\n",
    "    search_results = elastic_search(query)\n",
    "    prompt = build_prompt(query, search_results)\n",
    "    answer = llm(prompt)\n",
    "    return answer"
   ]
  },
  {
   "cell_type": "code",
   "execution_count": 30,
   "id": "f2f91fd0-2ada-4308-a950-ca239e94e412",
   "metadata": {},
   "outputs": [],
   "source": [
    "def build_prompt(query, search_results):\n",
    "    prompt_template = \"\"\"\n",
    "    You're a course teaching assistant. Answer the QUESTION based on the CONTEXT from the FAQ database.\n",
    "    Use only the facts from the CONTEXT when answering the QUESTION.\n",
    "    \n",
    "    QUESTION: {question}\n",
    "    \n",
    "    CONTEXT:\n",
    "    {context}\n",
    "    \n",
    "    \"\"\".strip()\n",
    "    \n",
    "    context = \"\"\n",
    "    \n",
    "    for doc in search_results:\n",
    "        context = context + f\"section: {doc['section']}\\nquestion: {doc['question']}\\nanswer: {doc['text']}\\n\\n\"\n",
    "    \n",
    "    prompt = prompt_template.format(question=query, context=context).strip()\n",
    "    return prompt"
   ]
  },
  {
   "cell_type": "code",
   "execution_count": 31,
   "id": "3ab82936-ca78-4287-9c25-f320b2df9a5f",
   "metadata": {},
   "outputs": [
    {
     "data": {
      "text/plain": [
       "'To execute a command in a running Docker container, you can use the `docker exec` command. Here are the steps to do it:\\n\\n1. List the running containers to find the container ID or name:\\n   ```sh\\n   docker ps\\n   ```\\n\\n2. Once you have the container ID or name, you can execute a command in that container. For example, to open a bash shell in the container, use the following command:\\n   ```sh\\n   docker exec -it <container-id> bash\\n   ```\\n\\nReplace `<container-id>` with the actual ID of the container you wish to execute the command in.'"
      ]
     },
     "execution_count": 31,
     "metadata": {},
     "output_type": "execute_result"
    }
   ],
   "source": [
    "rag(query)"
   ]
  },
  {
   "cell_type": "code",
   "execution_count": null,
   "id": "0606d598-1d50-4db2-94a9-dd529a3ba4e9",
   "metadata": {},
   "outputs": [],
   "source": []
  }
 ],
 "metadata": {
  "kernelspec": {
   "display_name": "Python 3 (ipykernel)",
   "language": "python",
   "name": "python3"
  },
  "language_info": {
   "codemirror_mode": {
    "name": "ipython",
    "version": 3
   },
   "file_extension": ".py",
   "mimetype": "text/x-python",
   "name": "python",
   "nbconvert_exporter": "python",
   "pygments_lexer": "ipython3",
   "version": "3.10.13"
  }
 },
 "nbformat": 4,
 "nbformat_minor": 5
}
